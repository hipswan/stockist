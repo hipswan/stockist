{
  "nbformat": 4,
  "nbformat_minor": 0,
  "metadata": {
    "colab": {
      "name": "stock-price-prediction.ipynb",
      "provenance": [],
      "collapsed_sections": [],
      "authorship_tag": "ABX9TyN18Yp6QeBR1T8fzxawr+Fi",
      "include_colab_link": true
    },
    "kernelspec": {
      "name": "python3",
      "display_name": "Python 3"
    }
  },
  "cells": [
    {
      "cell_type": "markdown",
      "metadata": {
        "id": "view-in-github",
        "colab_type": "text"
      },
      "source": [
        "<a href=\"https://colab.research.google.com/github/hipswan/stockist/blob/master/stock_price_prediction.ipynb\" target=\"_parent\"><img src=\"https://colab.research.google.com/assets/colab-badge.svg\" alt=\"Open In Colab\"/></a>"
      ]
    },
    {
      "cell_type": "code",
      "metadata": {
        "id": "W7uTW4VgisdU",
        "colab_type": "code",
        "colab": {
          "base_uri": "https://localhost:8080/",
          "height": 383
        },
        "outputId": "be8cedd2-96e3-4ba5-a827-41ad77fa6914"
      },
      "source": [
        "pip install yfinance"
      ],
      "execution_count": null,
      "outputs": [
        {
          "output_type": "stream",
          "text": [
            "Collecting yfinance\n",
            "  Downloading https://files.pythonhosted.org/packages/c2/31/8b374a12b90def92a4e27d0fc595fc43635f395984e36a075244d98bd265/yfinance-0.1.54.tar.gz\n",
            "Requirement already satisfied: pandas>=0.24 in /usr/local/lib/python3.6/dist-packages (from yfinance) (1.0.5)\n",
            "Requirement already satisfied: numpy>=1.15 in /usr/local/lib/python3.6/dist-packages (from yfinance) (1.18.5)\n",
            "Requirement already satisfied: requests>=2.20 in /usr/local/lib/python3.6/dist-packages (from yfinance) (2.23.0)\n",
            "Requirement already satisfied: multitasking>=0.0.7 in /usr/local/lib/python3.6/dist-packages (from yfinance) (0.0.9)\n",
            "Requirement already satisfied: pytz>=2017.2 in /usr/local/lib/python3.6/dist-packages (from pandas>=0.24->yfinance) (2018.9)\n",
            "Requirement already satisfied: python-dateutil>=2.6.1 in /usr/local/lib/python3.6/dist-packages (from pandas>=0.24->yfinance) (2.8.1)\n",
            "Requirement already satisfied: idna<3,>=2.5 in /usr/local/lib/python3.6/dist-packages (from requests>=2.20->yfinance) (2.10)\n",
            "Requirement already satisfied: chardet<4,>=3.0.2 in /usr/local/lib/python3.6/dist-packages (from requests>=2.20->yfinance) (3.0.4)\n",
            "Requirement already satisfied: urllib3!=1.25.0,!=1.25.1,<1.26,>=1.21.1 in /usr/local/lib/python3.6/dist-packages (from requests>=2.20->yfinance) (1.24.3)\n",
            "Requirement already satisfied: certifi>=2017.4.17 in /usr/local/lib/python3.6/dist-packages (from requests>=2.20->yfinance) (2020.6.20)\n",
            "Requirement already satisfied: six>=1.5 in /usr/local/lib/python3.6/dist-packages (from python-dateutil>=2.6.1->pandas>=0.24->yfinance) (1.15.0)\n",
            "Building wheels for collected packages: yfinance\n",
            "  Building wheel for yfinance (setup.py) ... \u001b[?25l\u001b[?25hdone\n",
            "  Created wheel for yfinance: filename=yfinance-0.1.54-py2.py3-none-any.whl size=22409 sha256=0ad09be879456aac1c521ab72c90675e332b4a3f6cdd902f0a174f193704e1c2\n",
            "  Stored in directory: /root/.cache/pip/wheels/f9/e3/5b/ec24dd2984b12d61e0abf26289746c2436a0e7844f26f2515c\n",
            "Successfully built yfinance\n",
            "Installing collected packages: yfinance\n",
            "Successfully installed yfinance-0.1.54\n"
          ],
          "name": "stdout"
        }
      ]
    },
    {
      "cell_type": "markdown",
      "metadata": {
        "id": "_XR8rOuXqXXI",
        "colab_type": "text"
      },
      "source": [
        "Long short-term memory (LSTM) is an artificial recurrent neural network (RNN) architecture used in the field of deep learning. Unlike standard feed forward neural networks, LSTM has feedback connections. It can not only process single data points (such as images), but also entire sequences of data (such as speech or video). — Wikipedia\n",
        "\n",
        "LSTMs are widely used for sequence prediction problems and have proven to be extremely effective.The reason they work so well is because LSTM is able to store past information that is important, and forget the information that is not. -Stackabuse.com\n",
        "\n",
        "Common Architecture of LSTM:\n",
        "Forget Gate\n",
        "Input Gate\n",
        "Output Gate"
      ]
    },
    {
      "cell_type": "code",
      "metadata": {
        "id": "qmYYB9kEEkP2",
        "colab_type": "code",
        "colab": {
          "base_uri": "https://localhost:8080/",
          "height": 72
        },
        "outputId": "f6074ab9-0ddb-4a4d-ca5e-b2b68d68f8d8"
      },
      "source": [
        "#Import the libraries\n",
        "import math\n",
        "import pandas_datareader as web\n",
        "import numpy as np\n",
        "import pandas as pd\n",
        "from sklearn.preprocessing import MinMaxScaler\n",
        "from keras.models import Sequential\n",
        "from keras.layers import Dense, LSTM\n",
        "import matplotlib.pyplot as plt\n",
        "import yfinance as yf\n",
        "\n",
        "plt.style.use('fivethirtyeight')"
      ],
      "execution_count": null,
      "outputs": [
        {
          "output_type": "stream",
          "text": [
            "/usr/local/lib/python3.6/dist-packages/pandas_datareader/compat/__init__.py:7: FutureWarning: pandas.util.testing is deprecated. Use the functions in the public API at pandas.testing instead.\n",
            "  from pandas.util.testing import assert_frame_equal\n"
          ],
          "name": "stderr"
        }
      ]
    },
    {
      "cell_type": "code",
      "metadata": {
        "id": "0tZaY9vREytw",
        "colab_type": "code",
        "colab": {
          "base_uri": "https://localhost:8080/",
          "height": 34
        },
        "outputId": "cd25d739-23eb-41c9-be0a-1ec86736691b"
      },
      "source": [
        "data = yf.download(\"IRCTC.NS Relaxo.NS ASIANPAINT.NS Idea.NS\", period = \"max\",interval='1d',group_by='IRCTC.NS')\n",
        "tickers=yf.Tickers([\"IRCTC.NS\",\"Relaxo.NS\"])"
      ],
      "execution_count": null,
      "outputs": [
        {
          "output_type": "stream",
          "text": [
            "[*********************100%***********************]  4 of 4 completed\n"
          ],
          "name": "stdout"
        }
      ]
    },
    {
      "cell_type": "code",
      "metadata": {
        "id": "60YWlphPtiD-",
        "colab_type": "code",
        "colab": {
          "base_uri": "https://localhost:8080/",
          "height": 345
        },
        "outputId": "b5020083-519f-4f0d-8c94-28e7cfe87e69"
      },
      "source": [
        "tickers.history()"
      ],
      "execution_count": null,
      "outputs": [
        {
          "output_type": "stream",
          "text": [
            "[*********************100%***********************]  2 of 2 completed\n"
          ],
          "name": "stdout"
        },
        {
          "output_type": "error",
          "ename": "AttributeError",
          "evalue": "ignored",
          "traceback": [
            "\u001b[0;31m---------------------------------------------------------------------------\u001b[0m",
            "\u001b[0;31mAttributeError\u001b[0m                            Traceback (most recent call last)",
            "\u001b[0;32m<ipython-input-8-5a8645d70d49>\u001b[0m in \u001b[0;36m<module>\u001b[0;34m()\u001b[0m\n\u001b[0;32m----> 1\u001b[0;31m \u001b[0mtickers\u001b[0m\u001b[0;34m.\u001b[0m\u001b[0mhistory\u001b[0m\u001b[0;34m(\u001b[0m\u001b[0;34m)\u001b[0m\u001b[0;34m\u001b[0m\u001b[0;34m\u001b[0m\u001b[0m\n\u001b[0m",
            "\u001b[0;32m/usr/local/lib/python3.6/dist-packages/yfinance/tickers.py\u001b[0m in \u001b[0;36mhistory\u001b[0;34m(self, period, interval, start, end, prepost, actions, auto_adjust, proxy, threads, group_by, progress, **kwargs)\u001b[0m\n\u001b[1;32m     67\u001b[0m                 \u001b[0mactions\u001b[0m\u001b[0;34m,\u001b[0m \u001b[0mauto_adjust\u001b[0m\u001b[0;34m,\u001b[0m \u001b[0mproxy\u001b[0m\u001b[0;34m,\u001b[0m\u001b[0;34m\u001b[0m\u001b[0;34m\u001b[0m\u001b[0m\n\u001b[1;32m     68\u001b[0m                 \u001b[0mthreads\u001b[0m\u001b[0;34m,\u001b[0m \u001b[0mgroup_by\u001b[0m\u001b[0;34m,\u001b[0m \u001b[0mprogress\u001b[0m\u001b[0;34m,\u001b[0m\u001b[0;34m\u001b[0m\u001b[0;34m\u001b[0m\u001b[0m\n\u001b[0;32m---> 69\u001b[0;31m                 **kwargs)\n\u001b[0m\u001b[1;32m     70\u001b[0m \u001b[0;34m\u001b[0m\u001b[0m\n\u001b[1;32m     71\u001b[0m     def download(self, period=\"1mo\", interval=\"1d\",\n",
            "\u001b[0;32m/usr/local/lib/python3.6/dist-packages/yfinance/tickers.py\u001b[0m in \u001b[0;36mdownload\u001b[0;34m(self, period, interval, start, end, prepost, actions, auto_adjust, proxy, threads, group_by, progress, **kwargs)\u001b[0m\n\u001b[1;32m     89\u001b[0m \u001b[0;34m\u001b[0m\u001b[0m\n\u001b[1;32m     90\u001b[0m         \u001b[0;32mfor\u001b[0m \u001b[0msymbol\u001b[0m \u001b[0;32min\u001b[0m \u001b[0mself\u001b[0m\u001b[0;34m.\u001b[0m\u001b[0msymbols\u001b[0m\u001b[0;34m:\u001b[0m\u001b[0;34m\u001b[0m\u001b[0;34m\u001b[0m\u001b[0m\n\u001b[0;32m---> 91\u001b[0;31m             \u001b[0mgetattr\u001b[0m\u001b[0;34m(\u001b[0m\u001b[0mself\u001b[0m\u001b[0;34m.\u001b[0m\u001b[0mtickers\u001b[0m\u001b[0;34m,\u001b[0m \u001b[0msymbol\u001b[0m\u001b[0;34m)\u001b[0m\u001b[0;34m.\u001b[0m\u001b[0m_history\u001b[0m \u001b[0;34m=\u001b[0m \u001b[0mdata\u001b[0m\u001b[0;34m[\u001b[0m\u001b[0msymbol\u001b[0m\u001b[0;34m]\u001b[0m\u001b[0;34m\u001b[0m\u001b[0;34m\u001b[0m\u001b[0m\n\u001b[0m\u001b[1;32m     92\u001b[0m \u001b[0;34m\u001b[0m\u001b[0m\n\u001b[1;32m     93\u001b[0m         \u001b[0;32mif\u001b[0m \u001b[0mgroup_by\u001b[0m \u001b[0;34m==\u001b[0m \u001b[0;34m'column'\u001b[0m\u001b[0;34m:\u001b[0m\u001b[0;34m\u001b[0m\u001b[0;34m\u001b[0m\u001b[0m\n",
            "\u001b[0;31mAttributeError\u001b[0m: 'Tickers' object has no attribute 'IRCTC.NS'"
          ]
        }
      ]
    },
    {
      "cell_type": "code",
      "metadata": {
        "id": "LUvqb-u2JmEk",
        "colab_type": "code",
        "colab": {}
      },
      "source": [
        "stocks = []\n",
        "for (columnname,columndata) in data.iteritems():\n",
        "\n",
        "  if(not stocks.count(columnname[0]) > 0): \n",
        "    stocks.append(columnname[0])\n",
        "  # print('Column name {}'.format(columnname[0]))\n",
        "  # print('Column data {}'.format(columndata))\n",
        "\n"
      ],
      "execution_count": null,
      "outputs": []
    },
    {
      "cell_type": "code",
      "metadata": {
        "id": "B_ar5jOdWE6j",
        "colab_type": "code",
        "colab": {
          "base_uri": "https://localhost:8080/",
          "height": 34
        },
        "outputId": "df9e32cb-22ce-46cc-dd73-6abfd6b495aa"
      },
      "source": [
        "stocks"
      ],
      "execution_count": null,
      "outputs": [
        {
          "output_type": "execute_result",
          "data": {
            "text/plain": [
              "['RELAXO.NS', 'IDEA.NS', 'IRCTC.NS', 'ASIANPAINT.NS']"
            ]
          },
          "metadata": {
            "tags": []
          },
          "execution_count": 45
        }
      ]
    },
    {
      "cell_type": "code",
      "metadata": {
        "id": "5uiYZ_Vzj6UE",
        "colab_type": "code",
        "colab": {
          "base_uri": "https://localhost:8080/",
          "height": 728
        },
        "outputId": "b727b4e0-12b1-400b-e53e-e1ef2be59817"
      },
      "source": [
        "idea = yf.Ticker('Relaxo.NS')\n",
        "idea.actions\n",
        "idea.history()\n"
      ],
      "execution_count": null,
      "outputs": [
        {
          "output_type": "execute_result",
          "data": {
            "text/html": [
              "<div>\n",
              "<style scoped>\n",
              "    .dataframe tbody tr th:only-of-type {\n",
              "        vertical-align: middle;\n",
              "    }\n",
              "\n",
              "    .dataframe tbody tr th {\n",
              "        vertical-align: top;\n",
              "    }\n",
              "\n",
              "    .dataframe thead th {\n",
              "        text-align: right;\n",
              "    }\n",
              "</style>\n",
              "<table border=\"1\" class=\"dataframe\">\n",
              "  <thead>\n",
              "    <tr style=\"text-align: right;\">\n",
              "      <th></th>\n",
              "      <th>Open</th>\n",
              "      <th>High</th>\n",
              "      <th>Low</th>\n",
              "      <th>Close</th>\n",
              "      <th>Volume</th>\n",
              "      <th>Dividends</th>\n",
              "      <th>Stock Splits</th>\n",
              "    </tr>\n",
              "    <tr>\n",
              "      <th>Date</th>\n",
              "      <th></th>\n",
              "      <th></th>\n",
              "      <th></th>\n",
              "      <th></th>\n",
              "      <th></th>\n",
              "      <th></th>\n",
              "      <th></th>\n",
              "    </tr>\n",
              "  </thead>\n",
              "  <tbody>\n",
              "    <tr>\n",
              "      <th>2020-07-06</th>\n",
              "      <td>662.80</td>\n",
              "      <td>675.00</td>\n",
              "      <td>647.40</td>\n",
              "      <td>654.85</td>\n",
              "      <td>849901</td>\n",
              "      <td>0</td>\n",
              "      <td>0</td>\n",
              "    </tr>\n",
              "    <tr>\n",
              "      <th>2020-07-07</th>\n",
              "      <td>655.00</td>\n",
              "      <td>664.00</td>\n",
              "      <td>648.65</td>\n",
              "      <td>650.25</td>\n",
              "      <td>364189</td>\n",
              "      <td>0</td>\n",
              "      <td>0</td>\n",
              "    </tr>\n",
              "    <tr>\n",
              "      <th>2020-07-08</th>\n",
              "      <td>654.90</td>\n",
              "      <td>656.85</td>\n",
              "      <td>641.00</td>\n",
              "      <td>645.55</td>\n",
              "      <td>234292</td>\n",
              "      <td>0</td>\n",
              "      <td>0</td>\n",
              "    </tr>\n",
              "    <tr>\n",
              "      <th>2020-07-09</th>\n",
              "      <td>650.90</td>\n",
              "      <td>650.90</td>\n",
              "      <td>638.20</td>\n",
              "      <td>643.00</td>\n",
              "      <td>271585</td>\n",
              "      <td>0</td>\n",
              "      <td>0</td>\n",
              "    </tr>\n",
              "    <tr>\n",
              "      <th>2020-07-10</th>\n",
              "      <td>640.00</td>\n",
              "      <td>643.00</td>\n",
              "      <td>633.00</td>\n",
              "      <td>635.55</td>\n",
              "      <td>187160</td>\n",
              "      <td>0</td>\n",
              "      <td>0</td>\n",
              "    </tr>\n",
              "    <tr>\n",
              "      <th>2020-07-13</th>\n",
              "      <td>638.60</td>\n",
              "      <td>641.00</td>\n",
              "      <td>622.00</td>\n",
              "      <td>625.85</td>\n",
              "      <td>322579</td>\n",
              "      <td>0</td>\n",
              "      <td>0</td>\n",
              "    </tr>\n",
              "    <tr>\n",
              "      <th>2020-07-14</th>\n",
              "      <td>625.00</td>\n",
              "      <td>633.80</td>\n",
              "      <td>618.20</td>\n",
              "      <td>620.35</td>\n",
              "      <td>230548</td>\n",
              "      <td>0</td>\n",
              "      <td>0</td>\n",
              "    </tr>\n",
              "    <tr>\n",
              "      <th>2020-07-15</th>\n",
              "      <td>624.95</td>\n",
              "      <td>626.50</td>\n",
              "      <td>619.00</td>\n",
              "      <td>621.60</td>\n",
              "      <td>246679</td>\n",
              "      <td>0</td>\n",
              "      <td>0</td>\n",
              "    </tr>\n",
              "    <tr>\n",
              "      <th>2020-07-16</th>\n",
              "      <td>624.90</td>\n",
              "      <td>625.35</td>\n",
              "      <td>610.00</td>\n",
              "      <td>622.35</td>\n",
              "      <td>234192</td>\n",
              "      <td>0</td>\n",
              "      <td>0</td>\n",
              "    </tr>\n",
              "    <tr>\n",
              "      <th>2020-07-17</th>\n",
              "      <td>625.85</td>\n",
              "      <td>629.00</td>\n",
              "      <td>617.60</td>\n",
              "      <td>626.95</td>\n",
              "      <td>188760</td>\n",
              "      <td>0</td>\n",
              "      <td>0</td>\n",
              "    </tr>\n",
              "    <tr>\n",
              "      <th>2020-07-20</th>\n",
              "      <td>629.40</td>\n",
              "      <td>635.50</td>\n",
              "      <td>620.25</td>\n",
              "      <td>622.30</td>\n",
              "      <td>261694</td>\n",
              "      <td>0</td>\n",
              "      <td>0</td>\n",
              "    </tr>\n",
              "    <tr>\n",
              "      <th>2020-07-21</th>\n",
              "      <td>627.00</td>\n",
              "      <td>628.00</td>\n",
              "      <td>618.05</td>\n",
              "      <td>623.00</td>\n",
              "      <td>253176</td>\n",
              "      <td>0</td>\n",
              "      <td>0</td>\n",
              "    </tr>\n",
              "    <tr>\n",
              "      <th>2020-07-22</th>\n",
              "      <td>621.30</td>\n",
              "      <td>635.00</td>\n",
              "      <td>620.55</td>\n",
              "      <td>626.45</td>\n",
              "      <td>404449</td>\n",
              "      <td>0</td>\n",
              "      <td>0</td>\n",
              "    </tr>\n",
              "    <tr>\n",
              "      <th>2020-07-23</th>\n",
              "      <td>627.00</td>\n",
              "      <td>629.85</td>\n",
              "      <td>621.75</td>\n",
              "      <td>624.60</td>\n",
              "      <td>182629</td>\n",
              "      <td>0</td>\n",
              "      <td>0</td>\n",
              "    </tr>\n",
              "    <tr>\n",
              "      <th>2020-07-24</th>\n",
              "      <td>623.00</td>\n",
              "      <td>627.75</td>\n",
              "      <td>615.80</td>\n",
              "      <td>619.50</td>\n",
              "      <td>263943</td>\n",
              "      <td>0</td>\n",
              "      <td>0</td>\n",
              "    </tr>\n",
              "    <tr>\n",
              "      <th>2020-07-27</th>\n",
              "      <td>623.25</td>\n",
              "      <td>623.25</td>\n",
              "      <td>608.00</td>\n",
              "      <td>609.90</td>\n",
              "      <td>187877</td>\n",
              "      <td>0</td>\n",
              "      <td>0</td>\n",
              "    </tr>\n",
              "    <tr>\n",
              "      <th>2020-07-28</th>\n",
              "      <td>610.00</td>\n",
              "      <td>615.50</td>\n",
              "      <td>597.00</td>\n",
              "      <td>599.45</td>\n",
              "      <td>366987</td>\n",
              "      <td>0</td>\n",
              "      <td>0</td>\n",
              "    </tr>\n",
              "    <tr>\n",
              "      <th>2020-07-29</th>\n",
              "      <td>600.00</td>\n",
              "      <td>612.65</td>\n",
              "      <td>599.50</td>\n",
              "      <td>601.35</td>\n",
              "      <td>307316</td>\n",
              "      <td>0</td>\n",
              "      <td>0</td>\n",
              "    </tr>\n",
              "    <tr>\n",
              "      <th>2020-07-30</th>\n",
              "      <td>610.00</td>\n",
              "      <td>610.00</td>\n",
              "      <td>587.10</td>\n",
              "      <td>590.85</td>\n",
              "      <td>391694</td>\n",
              "      <td>0</td>\n",
              "      <td>0</td>\n",
              "    </tr>\n",
              "    <tr>\n",
              "      <th>2020-07-31</th>\n",
              "      <td>595.05</td>\n",
              "      <td>603.90</td>\n",
              "      <td>578.00</td>\n",
              "      <td>595.20</td>\n",
              "      <td>593561</td>\n",
              "      <td>0</td>\n",
              "      <td>0</td>\n",
              "    </tr>\n",
              "    <tr>\n",
              "      <th>2020-08-03</th>\n",
              "      <td>598.00</td>\n",
              "      <td>610.00</td>\n",
              "      <td>589.50</td>\n",
              "      <td>594.55</td>\n",
              "      <td>549011</td>\n",
              "      <td>0</td>\n",
              "      <td>0</td>\n",
              "    </tr>\n",
              "    <tr>\n",
              "      <th>2020-08-04</th>\n",
              "      <td>596.15</td>\n",
              "      <td>618.00</td>\n",
              "      <td>595.50</td>\n",
              "      <td>613.75</td>\n",
              "      <td>364370</td>\n",
              "      <td>0</td>\n",
              "      <td>0</td>\n",
              "    </tr>\n",
              "  </tbody>\n",
              "</table>\n",
              "</div>"
            ],
            "text/plain": [
              "              Open    High     Low   Close  Volume  Dividends  Stock Splits\n",
              "Date                                                                       \n",
              "2020-07-06  662.80  675.00  647.40  654.85  849901          0             0\n",
              "2020-07-07  655.00  664.00  648.65  650.25  364189          0             0\n",
              "2020-07-08  654.90  656.85  641.00  645.55  234292          0             0\n",
              "2020-07-09  650.90  650.90  638.20  643.00  271585          0             0\n",
              "2020-07-10  640.00  643.00  633.00  635.55  187160          0             0\n",
              "2020-07-13  638.60  641.00  622.00  625.85  322579          0             0\n",
              "2020-07-14  625.00  633.80  618.20  620.35  230548          0             0\n",
              "2020-07-15  624.95  626.50  619.00  621.60  246679          0             0\n",
              "2020-07-16  624.90  625.35  610.00  622.35  234192          0             0\n",
              "2020-07-17  625.85  629.00  617.60  626.95  188760          0             0\n",
              "2020-07-20  629.40  635.50  620.25  622.30  261694          0             0\n",
              "2020-07-21  627.00  628.00  618.05  623.00  253176          0             0\n",
              "2020-07-22  621.30  635.00  620.55  626.45  404449          0             0\n",
              "2020-07-23  627.00  629.85  621.75  624.60  182629          0             0\n",
              "2020-07-24  623.00  627.75  615.80  619.50  263943          0             0\n",
              "2020-07-27  623.25  623.25  608.00  609.90  187877          0             0\n",
              "2020-07-28  610.00  615.50  597.00  599.45  366987          0             0\n",
              "2020-07-29  600.00  612.65  599.50  601.35  307316          0             0\n",
              "2020-07-30  610.00  610.00  587.10  590.85  391694          0             0\n",
              "2020-07-31  595.05  603.90  578.00  595.20  593561          0             0\n",
              "2020-08-03  598.00  610.00  589.50  594.55  549011          0             0\n",
              "2020-08-04  596.15  618.00  595.50  613.75  364370          0             0"
            ]
          },
          "metadata": {
            "tags": []
          },
          "execution_count": 46
        }
      ]
    },
    {
      "cell_type": "code",
      "metadata": {
        "id": "2TwuJsDqI0iQ",
        "colab_type": "code",
        "colab": {
          "base_uri": "https://localhost:8080/",
          "height": 431
        },
        "outputId": "6744df69-825f-4a81-baff-99fed6d789d4"
      },
      "source": [
        "# for stock in stocks:\n",
        "#   df = data[stock]\n",
        "#   df.dropna()\n",
        "df=data['RELAXO.NS']\n",
        "df=df.dropna()\n",
        "df"
      ],
      "execution_count": null,
      "outputs": [
        {
          "output_type": "execute_result",
          "data": {
            "text/html": [
              "<div>\n",
              "<style scoped>\n",
              "    .dataframe tbody tr th:only-of-type {\n",
              "        vertical-align: middle;\n",
              "    }\n",
              "\n",
              "    .dataframe tbody tr th {\n",
              "        vertical-align: top;\n",
              "    }\n",
              "\n",
              "    .dataframe thead th {\n",
              "        text-align: right;\n",
              "    }\n",
              "</style>\n",
              "<table border=\"1\" class=\"dataframe\">\n",
              "  <thead>\n",
              "    <tr style=\"text-align: right;\">\n",
              "      <th></th>\n",
              "      <th>Open</th>\n",
              "      <th>High</th>\n",
              "      <th>Low</th>\n",
              "      <th>Close</th>\n",
              "      <th>Adj Close</th>\n",
              "      <th>Volume</th>\n",
              "    </tr>\n",
              "    <tr>\n",
              "      <th>Date</th>\n",
              "      <th></th>\n",
              "      <th></th>\n",
              "      <th></th>\n",
              "      <th></th>\n",
              "      <th></th>\n",
              "      <th></th>\n",
              "    </tr>\n",
              "  </thead>\n",
              "  <tbody>\n",
              "    <tr>\n",
              "      <th>2011-06-17</th>\n",
              "      <td>14.995000</td>\n",
              "      <td>14.995000</td>\n",
              "      <td>13.150000</td>\n",
              "      <td>14.177500</td>\n",
              "      <td>11.839322</td>\n",
              "      <td>317040.0</td>\n",
              "    </tr>\n",
              "    <tr>\n",
              "      <th>2011-06-20</th>\n",
              "      <td>13.600000</td>\n",
              "      <td>13.600000</td>\n",
              "      <td>13.102500</td>\n",
              "      <td>13.115000</td>\n",
              "      <td>10.952052</td>\n",
              "      <td>10080.0</td>\n",
              "    </tr>\n",
              "    <tr>\n",
              "      <th>2011-06-21</th>\n",
              "      <td>12.900000</td>\n",
              "      <td>13.235000</td>\n",
              "      <td>12.505000</td>\n",
              "      <td>12.875000</td>\n",
              "      <td>10.751634</td>\n",
              "      <td>7980.0</td>\n",
              "    </tr>\n",
              "    <tr>\n",
              "      <th>2011-06-22</th>\n",
              "      <td>11.600000</td>\n",
              "      <td>13.397500</td>\n",
              "      <td>11.600000</td>\n",
              "      <td>12.252500</td>\n",
              "      <td>10.231797</td>\n",
              "      <td>180.0</td>\n",
              "    </tr>\n",
              "    <tr>\n",
              "      <th>2011-06-23</th>\n",
              "      <td>12.002500</td>\n",
              "      <td>12.950000</td>\n",
              "      <td>12.002500</td>\n",
              "      <td>12.500000</td>\n",
              "      <td>10.438479</td>\n",
              "      <td>1900.0</td>\n",
              "    </tr>\n",
              "    <tr>\n",
              "      <th>...</th>\n",
              "      <td>...</td>\n",
              "      <td>...</td>\n",
              "      <td>...</td>\n",
              "      <td>...</td>\n",
              "      <td>...</td>\n",
              "      <td>...</td>\n",
              "    </tr>\n",
              "    <tr>\n",
              "      <th>2020-07-29</th>\n",
              "      <td>600.000000</td>\n",
              "      <td>612.650024</td>\n",
              "      <td>599.500000</td>\n",
              "      <td>601.349976</td>\n",
              "      <td>601.349976</td>\n",
              "      <td>307316.0</td>\n",
              "    </tr>\n",
              "    <tr>\n",
              "      <th>2020-07-30</th>\n",
              "      <td>610.000000</td>\n",
              "      <td>610.000000</td>\n",
              "      <td>587.099976</td>\n",
              "      <td>590.849976</td>\n",
              "      <td>590.849976</td>\n",
              "      <td>391694.0</td>\n",
              "    </tr>\n",
              "    <tr>\n",
              "      <th>2020-07-31</th>\n",
              "      <td>595.049988</td>\n",
              "      <td>603.900024</td>\n",
              "      <td>578.000000</td>\n",
              "      <td>595.200012</td>\n",
              "      <td>595.200012</td>\n",
              "      <td>593561.0</td>\n",
              "    </tr>\n",
              "    <tr>\n",
              "      <th>2020-08-03</th>\n",
              "      <td>598.000000</td>\n",
              "      <td>610.000000</td>\n",
              "      <td>589.500000</td>\n",
              "      <td>594.549988</td>\n",
              "      <td>594.549988</td>\n",
              "      <td>549011.0</td>\n",
              "    </tr>\n",
              "    <tr>\n",
              "      <th>2020-08-04</th>\n",
              "      <td>596.150024</td>\n",
              "      <td>618.000000</td>\n",
              "      <td>595.500000</td>\n",
              "      <td>613.750000</td>\n",
              "      <td>613.750000</td>\n",
              "      <td>364370.0</td>\n",
              "    </tr>\n",
              "  </tbody>\n",
              "</table>\n",
              "<p>2244 rows × 6 columns</p>\n",
              "</div>"
            ],
            "text/plain": [
              "                  Open        High  ...   Adj Close    Volume\n",
              "Date                                ...                      \n",
              "2011-06-17   14.995000   14.995000  ...   11.839322  317040.0\n",
              "2011-06-20   13.600000   13.600000  ...   10.952052   10080.0\n",
              "2011-06-21   12.900000   13.235000  ...   10.751634    7980.0\n",
              "2011-06-22   11.600000   13.397500  ...   10.231797     180.0\n",
              "2011-06-23   12.002500   12.950000  ...   10.438479    1900.0\n",
              "...                ...         ...  ...         ...       ...\n",
              "2020-07-29  600.000000  612.650024  ...  601.349976  307316.0\n",
              "2020-07-30  610.000000  610.000000  ...  590.849976  391694.0\n",
              "2020-07-31  595.049988  603.900024  ...  595.200012  593561.0\n",
              "2020-08-03  598.000000  610.000000  ...  594.549988  549011.0\n",
              "2020-08-04  596.150024  618.000000  ...  613.750000  364370.0\n",
              "\n",
              "[2244 rows x 6 columns]"
            ]
          },
          "metadata": {
            "tags": []
          },
          "execution_count": 47
        }
      ]
    },
    {
      "cell_type": "code",
      "metadata": {
        "id": "lPgzMb9_gKk5",
        "colab_type": "code",
        "colab": {}
      },
      "source": [
        "# hdfc = yf.Ticker('Relaxo.NS')\n",
        "# hdfc_2020= hdfc.history(start='2020-01-01' , end='2020-08-07')\n",
        "# hdfc = hdfc.history(period='max',interval='1d')\n",
        "# # print('{}'.format(hdfc.actions)\n",
        "# df=hdfc\n",
        "# df.shape"
      ],
      "execution_count": null,
      "outputs": []
    },
    {
      "cell_type": "code",
      "metadata": {
        "id": "hgqn4r4UEtQW",
        "colab_type": "code",
        "colab": {
          "base_uri": "https://localhost:8080/",
          "height": 501
        },
        "outputId": "50cb2ce4-0f79-4cc6-9fc6-3c68315341ec"
      },
      "source": [
        "#Visualize the closing price history\n",
        "plt.figure(figsize=(16,8))\n",
        "plt.title('Close Price History')\n",
        "plt.plot(df['Close'])\n",
        "plt.xlabel('Date',fontsize=18)\n",
        "plt.ylabel('Close Price ',fontsize=18)\n",
        "plt.show()"
      ],
      "execution_count": null,
      "outputs": [
        {
          "output_type": "display_data",
          "data": {
            "image/png": "[encoded data removed]",
            "text/plain": [
              "<Figure size 1152x576 with 1 Axes>"
            ]
          },
          "metadata": {
            "tags": []
          }
        }
      ]
    },
    {
      "cell_type": "code",
      "metadata": {
        "id": "DfrrsAkgFJWE",
        "colab_type": "code",
        "colab": {}
      },
      "source": [
        "#Create a new dataframe with only the 'Close' column\n",
        "data = df.filter(['Close'])\n",
        "#Converting the dataframe to a numpy array\n",
        "dataset = data.values\n",
        "#Get /Compute the number of rows to train the model on\n",
        "training_data_len = math.ceil( len(dataset) *.8)"
      ],
      "execution_count": null,
      "outputs": []
    },
    {
      "cell_type": "code",
      "metadata": {
        "id": "fP4Z3zpVE8av",
        "colab_type": "code",
        "colab": {}
      },
      "source": [
        "#Scale the all of the data to be values between 0 and 1 \n",
        "scaler = MinMaxScaler(feature_range=(0, 1)) \n",
        "scaled_data = scaler.fit_transform(dataset)\n"
      ],
      "execution_count": null,
      "outputs": []
    },
    {
      "cell_type": "code",
      "metadata": {
        "id": "pribvRZaFS3d",
        "colab_type": "code",
        "colab": {}
      },
      "source": [
        "#Create the scaled training data set \n",
        "train_data = scaled_data[0:training_data_len  , : ]\n",
        "#Split the data into x_train and y_train data sets\n",
        "x_train=[]\n",
        "y_train = []\n",
        "for i in range(60,len(train_data)):\n",
        "    x_train.append(train_data[i-60:i,0])\n",
        "    y_train.append(train_data[i,0])"
      ],
      "execution_count": null,
      "outputs": []
    },
    {
      "cell_type": "code",
      "metadata": {
        "id": "gl6T28O8XuE_",
        "colab_type": "code",
        "colab": {}
      },
      "source": [
        "x_train = np.array(x_train)\n",
        "y_train = np.array(y_train)"
      ],
      "execution_count": null,
      "outputs": []
    },
    {
      "cell_type": "code",
      "metadata": {
        "id": "k-bjjx8clZHy",
        "colab_type": "code",
        "colab": {
          "base_uri": "https://localhost:8080/",
          "height": 235
        },
        "outputId": "451a346e-3dd3-4dcf-fc15-db5dbd463304"
      },
      "source": [
        "x_train[-60:]"
      ],
      "execution_count": null,
      "outputs": [
        {
          "output_type": "execute_result",
          "data": {
            "text/plain": [
              "array([[0.42108076, 0.42219956, 0.41993089, ..., 0.41613936, 0.42275897,\n",
              "        0.42129829],\n",
              "       [0.42219956, 0.41993089, 0.42092537, ..., 0.42275897, 0.42129829,\n",
              "        0.42269679],\n",
              "       [0.41993089, 0.42092537, 0.4050135 , ..., 0.42129829, 0.42269679,\n",
              "        0.42294543],\n",
              "       ...,\n",
              "       [0.41613936, 0.42275897, 0.42129829, ..., 0.45455165, 0.46039431,\n",
              "        0.44118815],\n",
              "       [0.42275897, 0.42129829, 0.42269679, ..., 0.46039431, 0.44118815,\n",
              "        0.44000721],\n",
              "       [0.42129829, 0.42269679, 0.42294543, ..., 0.44118815, 0.44000721,\n",
              "        0.42512089]])"
            ]
          },
          "metadata": {
            "tags": []
          },
          "execution_count": 56
        }
      ]
    },
    {
      "cell_type": "markdown",
      "metadata": {
        "id": "VmSy9IU9qtRd",
        "colab_type": "text"
      },
      "source": [
        "Reshape the data to be 3-dimensional in the form [number of samples, number of time steps, and number of features]. The LSTM model is expecting a 3-dimensional data set."
      ]
    },
    {
      "cell_type": "code",
      "metadata": {
        "id": "p4HLmmXaFfVM",
        "colab_type": "code",
        "colab": {}
      },
      "source": [
        "#Reshape the data into the shape accepted by the LSTM\n",
        "x_train = np.reshape(x_train, (x_train.shape[0],x_train.shape[1],1))"
      ],
      "execution_count": null,
      "outputs": []
    },
    {
      "cell_type": "code",
      "metadata": {
        "id": "qUeO4dUNFlY9",
        "colab_type": "code",
        "colab": {}
      },
      "source": [
        "#Build the LSTM network model\n",
        "model = Sequential()\n",
        "model.add(LSTM(units=50, return_sequences=True,input_shape=(x_train.shape[1],1)))\n",
        "model.add(LSTM(units=50, return_sequences=False))\n",
        "model.add(Dense(units=79))\n",
        "model.add(Dense(units=56))\n",
        "model.add(Dense(units=1))"
      ],
      "execution_count": null,
      "outputs": []
    },
    {
      "cell_type": "code",
      "metadata": {
        "id": "abEb9K7cHvzw",
        "colab_type": "code",
        "colab": {}
      },
      "source": [
        "#Compile the model\n",
        "model.compile(optimizer='adam', loss='mean_squared_error')"
      ],
      "execution_count": null,
      "outputs": []
    },
    {
      "cell_type": "code",
      "metadata": {
        "id": "SIT6Rj9rHywN",
        "colab_type": "code",
        "colab": {
          "base_uri": "https://localhost:8080/",
          "height": 797
        },
        "outputId": "eba809d3-e6dd-4f09-d660-c733c740b814"
      },
      "source": [
        "#Train the model\n",
        "\n",
        "model.fit(x_train, y_train, batch_size=1, epochs=22)"
      ],
      "execution_count": null,
      "outputs": [
        {
          "output_type": "stream",
          "text": [
            "Epoch 1/22\n",
            "1736/1736 [==============================] - 40s 23ms/step - loss: 4.4145e-05\n",
            "Epoch 2/22\n",
            "1736/1736 [==============================] - 39s 23ms/step - loss: 4.0834e-05\n",
            "Epoch 3/22\n",
            "1736/1736 [==============================] - 39s 22ms/step - loss: 4.6338e-05\n",
            "Epoch 4/22\n",
            "1736/1736 [==============================] - 39s 23ms/step - loss: 4.4681e-05\n",
            "Epoch 5/22\n",
            "1736/1736 [==============================] - 39s 22ms/step - loss: 4.1186e-05\n",
            "Epoch 6/22\n",
            "1736/1736 [==============================] - 39s 23ms/step - loss: 4.4451e-05\n",
            "Epoch 7/22\n",
            "1736/1736 [==============================] - 39s 23ms/step - loss: 4.4182e-05\n",
            "Epoch 8/22\n",
            "1736/1736 [==============================] - 39s 23ms/step - loss: 4.1066e-05\n",
            "Epoch 9/22\n",
            "1736/1736 [==============================] - 40s 23ms/step - loss: 4.7038e-05\n",
            "Epoch 10/22\n",
            "1736/1736 [==============================] - 39s 23ms/step - loss: 4.3221e-05\n",
            "Epoch 11/22\n",
            "1736/1736 [==============================] - 39s 22ms/step - loss: 4.2440e-05\n",
            "Epoch 12/22\n",
            "1736/1736 [==============================] - 39s 23ms/step - loss: 3.9288e-05\n",
            "Epoch 13/22\n",
            "1736/1736 [==============================] - 39s 22ms/step - loss: 3.9763e-05\n",
            "Epoch 14/22\n",
            "1736/1736 [==============================] - 39s 23ms/step - loss: 3.8777e-05\n",
            "Epoch 15/22\n",
            "1736/1736 [==============================] - 39s 23ms/step - loss: 4.3222e-05\n",
            "Epoch 16/22\n",
            "1736/1736 [==============================] - 39s 23ms/step - loss: 4.3456e-05\n",
            "Epoch 17/22\n",
            "1736/1736 [==============================] - 39s 23ms/step - loss: 3.9761e-05\n",
            "Epoch 18/22\n",
            "1736/1736 [==============================] - 39s 23ms/step - loss: 4.3892e-05\n",
            "Epoch 19/22\n",
            "1736/1736 [==============================] - 39s 22ms/step - loss: 4.1564e-05\n",
            "Epoch 20/22\n",
            "1736/1736 [==============================] - 39s 22ms/step - loss: 4.3321e-05\n",
            "Epoch 21/22\n",
            "1736/1736 [==============================] - 39s 23ms/step - loss: 4.3499e-05\n",
            "Epoch 22/22\n",
            "1736/1736 [==============================] - 39s 22ms/step - loss: 4.0041e-05\n"
          ],
          "name": "stdout"
        },
        {
          "output_type": "execute_result",
          "data": {
            "text/plain": [
              "<tensorflow.python.keras.callbacks.History at 0x7f348086e550>"
            ]
          },
          "metadata": {
            "tags": []
          },
          "execution_count": 96
        }
      ]
    },
    {
      "cell_type": "code",
      "metadata": {
        "id": "uVBN15S6YmT1",
        "colab_type": "code",
        "colab": {
          "base_uri": "https://localhost:8080/",
          "height": 35
        },
        "outputId": "d343ef78-f11b-4d9f-f022-87532ece21cc"
      },
      "source": [
        "test_data = scaled_data[training_data_len - 60: , : ]\n",
        "print(test_data.shape)\n",
        "#Create the x_test and y_test data sets\n",
        "x_test = []\n",
        "y_test =  dataset[training_data_len : , : ] #Get all of the rows from index 1603 to the rest and all of the columns (in this case it's only column 'Close'), so 2003 - 1603 = 400 rows of data\n",
        "for i in range(60,len(test_data)):\n",
        "    x_test.append(test_data[i-60:i,0])"
      ],
      "execution_count": null,
      "outputs": [
        {
          "output_type": "stream",
          "text": [
            "(508, 1)\n"
          ],
          "name": "stdout"
        }
      ]
    },
    {
      "cell_type": "code",
      "metadata": {
        "id": "25_hZG6CvGOz",
        "colab_type": "code",
        "colab": {
          "base_uri": "https://localhost:8080/",
          "height": 35
        },
        "outputId": "65823d43-7332-410f-dc0f-dec2fa7ebe8b"
      },
      "source": [
        "test_data = scaled_data[: , : ]\n",
        "print(test_data.shape)\n",
        "#Create the x_test and y_test data sets\n",
        "x_test = []\n",
        "y_test =  dataset[60 : , : ] #Get all of the rows from index 1603 to the rest and all of the columns (in this case it's only column 'Close'), so 2003 - 1603 = 400 rows of data\n",
        "for i in range(60,len(test_data)):\n",
        "    x_test.append(test_data[i-60:i,0])"
      ],
      "execution_count": null,
      "outputs": [
        {
          "output_type": "stream",
          "text": [
            "(2244, 1)\n"
          ],
          "name": "stdout"
        }
      ]
    },
    {
      "cell_type": "code",
      "metadata": {
        "id": "8ytLkAsol3dm",
        "colab_type": "code",
        "colab": {}
      },
      "source": [
        "x_test = np.array(x_test)"
      ],
      "execution_count": null,
      "outputs": []
    },
    {
      "cell_type": "code",
      "metadata": {
        "id": "n5H73Gx1MNmh",
        "colab_type": "code",
        "colab": {}
      },
      "source": [
        "#Reshape the data into the shape accepted by the LSTM\n",
        "x_test = np.reshape(x_test, (x_test.shape[0],x_test.shape[1],1))"
      ],
      "execution_count": null,
      "outputs": []
    },
    {
      "cell_type": "code",
      "metadata": {
        "id": "A3SZ1T7NMR2B",
        "colab_type": "code",
        "colab": {}
      },
      "source": [
        "#Getting the models predicted price values\n",
        "predictions = model.predict(x_test) \n",
        "predictions = scaler.inverse_transform(predictions)#Undo scaling"
      ],
      "execution_count": null,
      "outputs": []
    },
    {
      "cell_type": "code",
      "metadata": {
        "id": "Rbb1vuS1MhFQ",
        "colab_type": "code",
        "colab": {
          "base_uri": "https://localhost:8080/",
          "height": 35
        },
        "outputId": "764ec125-41bc-4192-ca33-a0c6875b2440"
      },
      "source": [
        "#Calculate/Get the value of RMSE\n",
        "rmse=np.sqrt(np.mean(((predictions- y_test)**2)))\n",
        "rmse"
      ],
      "execution_count": null,
      "outputs": [
        {
          "output_type": "execute_result",
          "data": {
            "text/plain": [
              "7.569879643474957"
            ]
          },
          "metadata": {
            "tags": []
          },
          "execution_count": 102
        }
      ]
    },
    {
      "cell_type": "code",
      "metadata": {
        "id": "535YXlrowB_0",
        "colab_type": "code",
        "colab": {
          "base_uri": "https://localhost:8080/",
          "height": 35
        },
        "outputId": "1e19f906-705b-487f-f0ed-e01f5a0a7ec9"
      },
      "source": [
        "predictions.shape"
      ],
      "execution_count": null,
      "outputs": [
        {
          "output_type": "execute_result",
          "data": {
            "text/plain": [
              "(2184, 1)"
            ]
          },
          "metadata": {
            "tags": []
          },
          "execution_count": 103
        }
      ]
    },
    {
      "cell_type": "code",
      "metadata": {
        "id": "Z1tR35k-MsRX",
        "colab_type": "code",
        "colab": {
          "base_uri": "https://localhost:8080/",
          "height": 534
        },
        "outputId": "9c8b2c15-099a-4bac-b461-0835310a0b2a"
      },
      "source": [
        "train = data[:training_data_len]\n",
        "valid = data[60:]\n",
        "valid['Predictions'] = predictions\n",
        "#Visualize the data\n",
        "plt.figure(figsize=(16,8))\n",
        "plt.title('Model')\n",
        "plt.xlabel('Date', fontsize=18)\n",
        "plt.ylabel('Close Price', fontsize=18)\n",
        "plt.plot(train['Close'])\n",
        "plt.plot(valid[['Close', 'Predictions']])\n",
        "plt.legend(['Train', 'Val', 'Predictions'], loc='lower right')\n",
        "\n",
        "plt.show()"
      ],
      "execution_count": null,
      "outputs": [
        {
          "output_type": "stream",
          "text": [
            "/usr/local/lib/python3.6/dist-packages/ipykernel_launcher.py:3: SettingWithCopyWarning: \n",
            "A value is trying to be set on a copy of a slice from a DataFrame.\n",
            "Try using .loc[row_indexer,col_indexer] = value instead\n",
            "\n",
            "See the caveats in the documentation: https://pandas.pydata.org/pandas-docs/stable/user_guide/indexing.html#returning-a-view-versus-a-copy\n",
            "  This is separate from the ipykernel package so we can avoid doing imports until\n"
          ],
          "name": "stderr"
        },
        {
          "output_type": "display_data",
          "data": {
            "image/png": "[encoded data removed]",
            "text/plain": [
              "<Figure size 1152x576 with 1 Axes>"
            ]
          },
          "metadata": {
            "tags": []
          }
        }
      ]
    },
    {
      "cell_type": "code",
      "metadata": {
        "id": "-RyIY1fumwuQ",
        "colab_type": "code",
        "colab": {}
      },
      "source": [
        "predictions = np.array(predictions)\n",
        "# predictions.strides\n",
        "# predictions[1,0]\n",
        "# offset=sum(predictions.strides*np.array((1,0)))\n",
        "# offset/predictions.itemsize"
      ],
      "execution_count": null,
      "outputs": []
    },
    {
      "cell_type": "code",
      "metadata": {
        "id": "3Lrnj5hmgP3f",
        "colab_type": "code",
        "colab": {
          "base_uri": "https://localhost:8080/",
          "height": 446
        },
        "outputId": "ecfda2b9-09f0-4da1-aaf0-b212567174ff"
      },
      "source": [
        "valid[['Close','Predictions']]"
      ],
      "execution_count": null,
      "outputs": [
        {
          "output_type": "execute_result",
          "data": {
            "text/html": [
              "<div>\n",
              "<style scoped>\n",
              "    .dataframe tbody tr th:only-of-type {\n",
              "        vertical-align: middle;\n",
              "    }\n",
              "\n",
              "    .dataframe tbody tr th {\n",
              "        vertical-align: top;\n",
              "    }\n",
              "\n",
              "    .dataframe thead th {\n",
              "        text-align: right;\n",
              "    }\n",
              "</style>\n",
              "<table border=\"1\" class=\"dataframe\">\n",
              "  <thead>\n",
              "    <tr style=\"text-align: right;\">\n",
              "      <th></th>\n",
              "      <th>Close</th>\n",
              "      <th>Predictions</th>\n",
              "    </tr>\n",
              "    <tr>\n",
              "      <th>Date</th>\n",
              "      <th></th>\n",
              "      <th></th>\n",
              "    </tr>\n",
              "  </thead>\n",
              "  <tbody>\n",
              "    <tr>\n",
              "      <th>2011-09-14</th>\n",
              "      <td>18.377501</td>\n",
              "      <td>20.284182</td>\n",
              "    </tr>\n",
              "    <tr>\n",
              "      <th>2011-09-15</th>\n",
              "      <td>18.157499</td>\n",
              "      <td>20.481281</td>\n",
              "    </tr>\n",
              "    <tr>\n",
              "      <th>2011-09-16</th>\n",
              "      <td>18.264999</td>\n",
              "      <td>20.295353</td>\n",
              "    </tr>\n",
              "    <tr>\n",
              "      <th>2011-09-19</th>\n",
              "      <td>20.372499</td>\n",
              "      <td>20.414766</td>\n",
              "    </tr>\n",
              "    <tr>\n",
              "      <th>2011-09-20</th>\n",
              "      <td>20.497499</td>\n",
              "      <td>22.338408</td>\n",
              "    </tr>\n",
              "    <tr>\n",
              "      <th>...</th>\n",
              "      <td>...</td>\n",
              "      <td>...</td>\n",
              "    </tr>\n",
              "    <tr>\n",
              "      <th>2020-07-29</th>\n",
              "      <td>601.349976</td>\n",
              "      <td>593.368408</td>\n",
              "    </tr>\n",
              "    <tr>\n",
              "      <th>2020-07-30</th>\n",
              "      <td>590.849976</td>\n",
              "      <td>592.184509</td>\n",
              "    </tr>\n",
              "    <tr>\n",
              "      <th>2020-07-31</th>\n",
              "      <td>595.200012</td>\n",
              "      <td>585.572205</td>\n",
              "    </tr>\n",
              "    <tr>\n",
              "      <th>2020-08-03</th>\n",
              "      <td>594.549988</td>\n",
              "      <td>586.240784</td>\n",
              "    </tr>\n",
              "    <tr>\n",
              "      <th>2020-08-04</th>\n",
              "      <td>613.750000</td>\n",
              "      <td>587.110229</td>\n",
              "    </tr>\n",
              "  </tbody>\n",
              "</table>\n",
              "<p>2184 rows × 2 columns</p>\n",
              "</div>"
            ],
            "text/plain": [
              "                 Close  Predictions\n",
              "Date                               \n",
              "2011-09-14   18.377501    20.284182\n",
              "2011-09-15   18.157499    20.481281\n",
              "2011-09-16   18.264999    20.295353\n",
              "2011-09-19   20.372499    20.414766\n",
              "2011-09-20   20.497499    22.338408\n",
              "...                ...          ...\n",
              "2020-07-29  601.349976   593.368408\n",
              "2020-07-30  590.849976   592.184509\n",
              "2020-07-31  595.200012   585.572205\n",
              "2020-08-03  594.549988   586.240784\n",
              "2020-08-04  613.750000   587.110229\n",
              "\n",
              "[2184 rows x 2 columns]"
            ]
          },
          "metadata": {
            "tags": []
          },
          "execution_count": 108
        }
      ]
    },
    {
      "cell_type": "code",
      "metadata": {
        "id": "U4iEPciPe18F",
        "colab_type": "code",
        "colab": {}
      },
      "source": [
        "# close = valid.filter(['Close']).values\n",
        "# predictions = valid.filter(['Predictions']).values\n",
        "# avg = (close-predictions)/2\n",
        "# std = np.std((close-predictions),axis=1).reshape(predictions.shape)\n",
        "# valid['Predictions'] = (predictions+avg+2*std)\n",
        "# predictions = (predictions+avg+2*std)"
      ],
      "execution_count": null,
      "outputs": []
    },
    {
      "cell_type": "code",
      "metadata": {
        "id": "iyGE3SKmiU-I",
        "colab_type": "code",
        "colab": {}
      },
      "source": [
        "# rmse=np.sqrt(np.mean(((predictions- y_test)**2)))\n",
        "# rmse"
      ],
      "execution_count": null,
      "outputs": []
    },
    {
      "cell_type": "code",
      "metadata": {
        "id": "L243PLz2ioHf",
        "colab_type": "code",
        "colab": {}
      },
      "source": [
        "# close = valid.filter(['Close']).values\n",
        "# predictions = valid.filter(['Predictions']).values\n",
        "# avg = np.average((close-predictions),axis=0)\n",
        "# std = np.std((close-predictions),axis=0)\n",
        "# valid['Predictions'] = (predictions+avg+2*std)\n",
        "# predictions = (predictions+avg+2*std)"
      ],
      "execution_count": null,
      "outputs": []
    },
    {
      "cell_type": "code",
      "metadata": {
        "id": "yXvj-2f6DOIj",
        "colab_type": "code",
        "colab": {}
      },
      "source": [
        "# rmse=np.sqrt(np.mean(((predictions- y_test)**2)))\n",
        "# rmse"
      ],
      "execution_count": null,
      "outputs": []
    },
    {
      "cell_type": "code",
      "metadata": {
        "id": "ltczv1n-fQZL",
        "colab_type": "code",
        "colab": {
          "base_uri": "https://localhost:8080/",
          "height": 539
        },
        "outputId": "47ac8c04-55af-4ba9-f486-1aef4e6473ef"
      },
      "source": [
        "valid['Predictions'] = predictions\n",
        "plt.figure(figsize=(16,8))\n",
        "plt.title('Model')\n",
        "plt.xlabel('Date', fontsize=18)\n",
        "plt.ylabel('Close Price', fontsize=18)\n",
        "# plt.plot(train['Close'])\n",
        "plt.plot(valid[-100:][['Close', 'Predictions']])\n",
        "plt.legend(['Train', 'Val', 'Predictions'], loc='lower right')\n",
        "plt.show()"
      ],
      "execution_count": null,
      "outputs": [
        {
          "output_type": "stream",
          "text": [
            "/usr/local/lib/python3.6/dist-packages/ipykernel_launcher.py:1: SettingWithCopyWarning: \n",
            "A value is trying to be set on a copy of a slice from a DataFrame.\n",
            "Try using .loc[row_indexer,col_indexer] = value instead\n",
            "\n",
            "See the caveats in the documentation: https://pandas.pydata.org/pandas-docs/stable/user_guide/indexing.html#returning-a-view-versus-a-copy\n",
            "  \"\"\"Entry point for launching an IPython kernel.\n"
          ],
          "name": "stderr"
        },
        {
          "output_type": "display_data",
          "data": {
            "image/png": "[encoded data removed]",
            "text/plain": [
              "<Figure size 1152x576 with 1 Axes>"
            ]
          },
          "metadata": {
            "tags": []
          }
        }
      ]
    },
    {
      "cell_type": "code",
      "metadata": {
        "id": "GVFxSPkks_-C",
        "colab_type": "code",
        "colab": {}
      },
      "source": [
        "# new_df=df.filter(['Close'])\n",
        "# print(new_df.head(10))\n",
        "# stock={}\n",
        "# date = new_df.last_valid_index()\n",
        "# next_date = date+ pd.DateOffset(1)\n",
        "# if(next_date.weekday()==5 or next_date.weekday() == 6):\n",
        "#     print('its weekend take rest')\n",
        "# stock['Date'] = next_date\n",
        "# stock['Close'] = [457]\n",
        "# ha= pd.DataFrame(stock)\n",
        "# new_df.append(ha.set_index('Date'))\n"
      ],
      "execution_count": null,
      "outputs": []
    },
    {
      "cell_type": "code",
      "metadata": {
        "id": "irwJCDXj0OeM",
        "colab_type": "code",
        "colab": {}
      },
      "source": [
        "# value=[]\n",
        "# ha= np.array([[456]])\n",
        "# ha.data\n",
        "# value.append(ha[0][0])\n",
        "# value"
      ],
      "execution_count": null,
      "outputs": []
    },
    {
      "cell_type": "code",
      "metadata": {
        "id": "ioAuDKYfnNOC",
        "colab_type": "code",
        "colab": {
          "base_uri": "https://localhost:8080/",
          "height": 389
        },
        "outputId": "0de3cd02-14d6-49a4-db95-7cb865b15048"
      },
      "source": [
        "new_df=df.filter(['Close'])\n",
        "new_df[-10:]"
      ],
      "execution_count": null,
      "outputs": [
        {
          "output_type": "execute_result",
          "data": {
            "text/html": [
              "<div>\n",
              "<style scoped>\n",
              "    .dataframe tbody tr th:only-of-type {\n",
              "        vertical-align: middle;\n",
              "    }\n",
              "\n",
              "    .dataframe tbody tr th {\n",
              "        vertical-align: top;\n",
              "    }\n",
              "\n",
              "    .dataframe thead th {\n",
              "        text-align: right;\n",
              "    }\n",
              "</style>\n",
              "<table border=\"1\" class=\"dataframe\">\n",
              "  <thead>\n",
              "    <tr style=\"text-align: right;\">\n",
              "      <th></th>\n",
              "      <th>Close</th>\n",
              "    </tr>\n",
              "    <tr>\n",
              "      <th>Date</th>\n",
              "      <th></th>\n",
              "    </tr>\n",
              "  </thead>\n",
              "  <tbody>\n",
              "    <tr>\n",
              "      <th>2020-07-22</th>\n",
              "      <td>626.450012</td>\n",
              "    </tr>\n",
              "    <tr>\n",
              "      <th>2020-07-23</th>\n",
              "      <td>624.599976</td>\n",
              "    </tr>\n",
              "    <tr>\n",
              "      <th>2020-07-24</th>\n",
              "      <td>619.500000</td>\n",
              "    </tr>\n",
              "    <tr>\n",
              "      <th>2020-07-27</th>\n",
              "      <td>609.900024</td>\n",
              "    </tr>\n",
              "    <tr>\n",
              "      <th>2020-07-28</th>\n",
              "      <td>599.450012</td>\n",
              "    </tr>\n",
              "    <tr>\n",
              "      <th>2020-07-29</th>\n",
              "      <td>601.349976</td>\n",
              "    </tr>\n",
              "    <tr>\n",
              "      <th>2020-07-30</th>\n",
              "      <td>590.849976</td>\n",
              "    </tr>\n",
              "    <tr>\n",
              "      <th>2020-07-31</th>\n",
              "      <td>595.200012</td>\n",
              "    </tr>\n",
              "    <tr>\n",
              "      <th>2020-08-03</th>\n",
              "      <td>594.549988</td>\n",
              "    </tr>\n",
              "    <tr>\n",
              "      <th>2020-08-04</th>\n",
              "      <td>613.750000</td>\n",
              "    </tr>\n",
              "  </tbody>\n",
              "</table>\n",
              "</div>"
            ],
            "text/plain": [
              "                 Close\n",
              "Date                  \n",
              "2020-07-22  626.450012\n",
              "2020-07-23  624.599976\n",
              "2020-07-24  619.500000\n",
              "2020-07-27  609.900024\n",
              "2020-07-28  599.450012\n",
              "2020-07-29  601.349976\n",
              "2020-07-30  590.849976\n",
              "2020-07-31  595.200012\n",
              "2020-08-03  594.549988\n",
              "2020-08-04  613.750000"
            ]
          },
          "metadata": {
            "tags": []
          },
          "execution_count": 107
        }
      ]
    },
    {
      "cell_type": "code",
      "metadata": {
        "id": "RLZslrTnmyDV",
        "colab_type": "code",
        "colab": {}
      },
      "source": [
        "for i in range(0,60):\n",
        "  #take last 60 days data \n",
        "  last_60_days = new_df[-60:].values\n",
        "  #note down last date\n",
        "  last_day_date= new_df.last_valid_index() \n",
        "  #take next date tosave prediction against \n",
        "  next_date = last_day_date + pd.DateOffset(1)\n",
        "  if(next_date.weekday()==  5):\n",
        "    next_date = next_date+pd.DateOffset(2)\n",
        "  if(next_date.weekday() == 6):\n",
        "    next_date = next_date+pd.DateOffset(1)\n",
        "\n",
        "  last_60_days_scaled = scaler.transform(last_60_days)\n",
        "  #Create an empty list\n",
        "  X_test = []\n",
        "  #Append teh past 60 days\n",
        "  X_test.append(last_60_days_scaled)\n",
        "  #Convert the X_test data set to a numpy array\n",
        "  X_test = np.array(X_test)\n",
        "  #Reshape the data\n",
        "  X_test = np.reshape(X_test, (X_test.shape[0], X_test.shape[1], 1))\n",
        "  #Get the predicted scaled price\n",
        "  pred_price = model.predict(X_test)\n",
        "  #undo the scaling \n",
        "  pred_price = scaler.inverse_transform(pred_price)\n",
        "  #append predicted data to the original\n",
        "  future_data={}\n",
        "  future_data['Date'] = next_date\n",
        "  future_data['Close'] = pred_price[0]\n",
        "  ha= pd.DataFrame(future_data)\n",
        "  ha.set_index('Date',inplace=\"true\")\n",
        "  new_df=new_df.append(ha)"
      ],
      "execution_count": null,
      "outputs": []
    },
    {
      "cell_type": "code",
      "metadata": {
        "id": "IZVxJejLHil4",
        "colab_type": "code",
        "colab": {
          "base_uri": "https://localhost:8080/",
          "height": 1000
        },
        "outputId": "f821b46c-b380-4c1c-8d41-67ac65f5ffd4"
      },
      "source": [
        "new_df[-60:]"
      ],
      "execution_count": null,
      "outputs": [
        {
          "output_type": "execute_result",
          "data": {
            "text/html": [
              "<div>\n",
              "<style scoped>\n",
              "    .dataframe tbody tr th:only-of-type {\n",
              "        vertical-align: middle;\n",
              "    }\n",
              "\n",
              "    .dataframe tbody tr th {\n",
              "        vertical-align: top;\n",
              "    }\n",
              "\n",
              "    .dataframe thead th {\n",
              "        text-align: right;\n",
              "    }\n",
              "</style>\n",
              "<table border=\"1\" class=\"dataframe\">\n",
              "  <thead>\n",
              "    <tr style=\"text-align: right;\">\n",
              "      <th></th>\n",
              "      <th>Close</th>\n",
              "    </tr>\n",
              "    <tr>\n",
              "      <th>Date</th>\n",
              "      <th></th>\n",
              "    </tr>\n",
              "  </thead>\n",
              "  <tbody>\n",
              "    <tr>\n",
              "      <th>2020-08-05</th>\n",
              "      <td>600.876343</td>\n",
              "    </tr>\n",
              "    <tr>\n",
              "      <th>2020-08-06</th>\n",
              "      <td>596.977722</td>\n",
              "    </tr>\n",
              "    <tr>\n",
              "      <th>2020-08-07</th>\n",
              "      <td>590.120667</td>\n",
              "    </tr>\n",
              "    <tr>\n",
              "      <th>2020-08-10</th>\n",
              "      <td>583.500610</td>\n",
              "    </tr>\n",
              "    <tr>\n",
              "      <th>2020-08-11</th>\n",
              "      <td>577.156433</td>\n",
              "    </tr>\n",
              "    <tr>\n",
              "      <th>2020-08-12</th>\n",
              "      <td>571.060974</td>\n",
              "    </tr>\n",
              "    <tr>\n",
              "      <th>2020-08-13</th>\n",
              "      <td>565.166748</td>\n",
              "    </tr>\n",
              "    <tr>\n",
              "      <th>2020-08-14</th>\n",
              "      <td>559.424194</td>\n",
              "    </tr>\n",
              "    <tr>\n",
              "      <th>2020-08-17</th>\n",
              "      <td>553.798157</td>\n",
              "    </tr>\n",
              "    <tr>\n",
              "      <th>2020-08-18</th>\n",
              "      <td>548.267578</td>\n",
              "    </tr>\n",
              "    <tr>\n",
              "      <th>2020-08-19</th>\n",
              "      <td>542.822998</td>\n",
              "    </tr>\n",
              "    <tr>\n",
              "      <th>2020-08-20</th>\n",
              "      <td>537.462463</td>\n",
              "    </tr>\n",
              "    <tr>\n",
              "      <th>2020-08-21</th>\n",
              "      <td>532.188477</td>\n",
              "    </tr>\n",
              "    <tr>\n",
              "      <th>2020-08-24</th>\n",
              "      <td>527.006348</td>\n",
              "    </tr>\n",
              "    <tr>\n",
              "      <th>2020-08-25</th>\n",
              "      <td>521.922302</td>\n",
              "    </tr>\n",
              "    <tr>\n",
              "      <th>2020-08-26</th>\n",
              "      <td>516.942627</td>\n",
              "    </tr>\n",
              "    <tr>\n",
              "      <th>2020-08-27</th>\n",
              "      <td>512.073364</td>\n",
              "    </tr>\n",
              "    <tr>\n",
              "      <th>2020-08-28</th>\n",
              "      <td>507.319824</td>\n",
              "    </tr>\n",
              "    <tr>\n",
              "      <th>2020-08-31</th>\n",
              "      <td>502.686249</td>\n",
              "    </tr>\n",
              "    <tr>\n",
              "      <th>2020-09-01</th>\n",
              "      <td>498.176361</td>\n",
              "    </tr>\n",
              "    <tr>\n",
              "      <th>2020-09-02</th>\n",
              "      <td>493.792633</td>\n",
              "    </tr>\n",
              "    <tr>\n",
              "      <th>2020-09-03</th>\n",
              "      <td>489.537292</td>\n",
              "    </tr>\n",
              "    <tr>\n",
              "      <th>2020-09-04</th>\n",
              "      <td>485.411469</td>\n",
              "    </tr>\n",
              "    <tr>\n",
              "      <th>2020-09-07</th>\n",
              "      <td>481.415649</td>\n",
              "    </tr>\n",
              "    <tr>\n",
              "      <th>2020-09-08</th>\n",
              "      <td>477.549713</td>\n",
              "    </tr>\n",
              "    <tr>\n",
              "      <th>2020-09-09</th>\n",
              "      <td>473.813049</td>\n",
              "    </tr>\n",
              "    <tr>\n",
              "      <th>2020-09-10</th>\n",
              "      <td>470.204315</td>\n",
              "    </tr>\n",
              "    <tr>\n",
              "      <th>2020-09-11</th>\n",
              "      <td>466.721863</td>\n",
              "    </tr>\n",
              "    <tr>\n",
              "      <th>2020-09-14</th>\n",
              "      <td>463.363495</td>\n",
              "    </tr>\n",
              "    <tr>\n",
              "      <th>2020-09-15</th>\n",
              "      <td>460.126831</td>\n",
              "    </tr>\n",
              "    <tr>\n",
              "      <th>2020-09-16</th>\n",
              "      <td>457.009094</td>\n",
              "    </tr>\n",
              "    <tr>\n",
              "      <th>2020-09-17</th>\n",
              "      <td>454.007172</td>\n",
              "    </tr>\n",
              "    <tr>\n",
              "      <th>2020-09-18</th>\n",
              "      <td>451.117889</td>\n",
              "    </tr>\n",
              "    <tr>\n",
              "      <th>2020-09-21</th>\n",
              "      <td>448.337921</td>\n",
              "    </tr>\n",
              "    <tr>\n",
              "      <th>2020-09-22</th>\n",
              "      <td>445.663788</td>\n",
              "    </tr>\n",
              "    <tr>\n",
              "      <th>2020-09-23</th>\n",
              "      <td>443.091766</td>\n",
              "    </tr>\n",
              "    <tr>\n",
              "      <th>2020-09-24</th>\n",
              "      <td>440.618469</td>\n",
              "    </tr>\n",
              "    <tr>\n",
              "      <th>2020-09-25</th>\n",
              "      <td>438.240143</td>\n",
              "    </tr>\n",
              "    <tr>\n",
              "      <th>2020-09-28</th>\n",
              "      <td>435.953400</td>\n",
              "    </tr>\n",
              "    <tr>\n",
              "      <th>2020-09-29</th>\n",
              "      <td>433.754517</td>\n",
              "    </tr>\n",
              "    <tr>\n",
              "      <th>2020-09-30</th>\n",
              "      <td>431.639923</td>\n",
              "    </tr>\n",
              "    <tr>\n",
              "      <th>2020-10-01</th>\n",
              "      <td>429.606262</td>\n",
              "    </tr>\n",
              "    <tr>\n",
              "      <th>2020-10-02</th>\n",
              "      <td>427.650146</td>\n",
              "    </tr>\n",
              "    <tr>\n",
              "      <th>2020-10-05</th>\n",
              "      <td>425.768341</td>\n",
              "    </tr>\n",
              "    <tr>\n",
              "      <th>2020-10-06</th>\n",
              "      <td>423.957581</td>\n",
              "    </tr>\n",
              "    <tr>\n",
              "      <th>2020-10-07</th>\n",
              "      <td>422.214783</td>\n",
              "    </tr>\n",
              "    <tr>\n",
              "      <th>2020-10-08</th>\n",
              "      <td>420.537048</td>\n",
              "    </tr>\n",
              "    <tr>\n",
              "      <th>2020-10-09</th>\n",
              "      <td>418.921509</td>\n",
              "    </tr>\n",
              "    <tr>\n",
              "      <th>2020-10-12</th>\n",
              "      <td>417.365356</td>\n",
              "    </tr>\n",
              "    <tr>\n",
              "      <th>2020-10-13</th>\n",
              "      <td>415.866058</td>\n",
              "    </tr>\n",
              "    <tr>\n",
              "      <th>2020-10-14</th>\n",
              "      <td>414.421021</td>\n",
              "    </tr>\n",
              "    <tr>\n",
              "      <th>2020-10-15</th>\n",
              "      <td>413.027893</td>\n",
              "    </tr>\n",
              "    <tr>\n",
              "      <th>2020-10-16</th>\n",
              "      <td>411.684296</td>\n",
              "    </tr>\n",
              "    <tr>\n",
              "      <th>2020-10-19</th>\n",
              "      <td>410.388092</td>\n",
              "    </tr>\n",
              "    <tr>\n",
              "      <th>2020-10-20</th>\n",
              "      <td>409.137024</td>\n",
              "    </tr>\n",
              "    <tr>\n",
              "      <th>2020-10-21</th>\n",
              "      <td>407.929321</td>\n",
              "    </tr>\n",
              "    <tr>\n",
              "      <th>2020-10-22</th>\n",
              "      <td>406.763000</td>\n",
              "    </tr>\n",
              "    <tr>\n",
              "      <th>2020-10-23</th>\n",
              "      <td>405.636230</td>\n",
              "    </tr>\n",
              "    <tr>\n",
              "      <th>2020-10-26</th>\n",
              "      <td>404.547272</td>\n",
              "    </tr>\n",
              "    <tr>\n",
              "      <th>2020-10-27</th>\n",
              "      <td>403.494629</td>\n",
              "    </tr>\n",
              "  </tbody>\n",
              "</table>\n",
              "</div>"
            ],
            "text/plain": [
              "                 Close\n",
              "Date                  \n",
              "2020-08-05  600.876343\n",
              "2020-08-06  596.977722\n",
              "2020-08-07  590.120667\n",
              "2020-08-10  583.500610\n",
              "2020-08-11  577.156433\n",
              "2020-08-12  571.060974\n",
              "2020-08-13  565.166748\n",
              "2020-08-14  559.424194\n",
              "2020-08-17  553.798157\n",
              "2020-08-18  548.267578\n",
              "2020-08-19  542.822998\n",
              "2020-08-20  537.462463\n",
              "2020-08-21  532.188477\n",
              "2020-08-24  527.006348\n",
              "2020-08-25  521.922302\n",
              "2020-08-26  516.942627\n",
              "2020-08-27  512.073364\n",
              "2020-08-28  507.319824\n",
              "2020-08-31  502.686249\n",
              "2020-09-01  498.176361\n",
              "2020-09-02  493.792633\n",
              "2020-09-03  489.537292\n",
              "2020-09-04  485.411469\n",
              "2020-09-07  481.415649\n",
              "2020-09-08  477.549713\n",
              "2020-09-09  473.813049\n",
              "2020-09-10  470.204315\n",
              "2020-09-11  466.721863\n",
              "2020-09-14  463.363495\n",
              "2020-09-15  460.126831\n",
              "2020-09-16  457.009094\n",
              "2020-09-17  454.007172\n",
              "2020-09-18  451.117889\n",
              "2020-09-21  448.337921\n",
              "2020-09-22  445.663788\n",
              "2020-09-23  443.091766\n",
              "2020-09-24  440.618469\n",
              "2020-09-25  438.240143\n",
              "2020-09-28  435.953400\n",
              "2020-09-29  433.754517\n",
              "2020-09-30  431.639923\n",
              "2020-10-01  429.606262\n",
              "2020-10-02  427.650146\n",
              "2020-10-05  425.768341\n",
              "2020-10-06  423.957581\n",
              "2020-10-07  422.214783\n",
              "2020-10-08  420.537048\n",
              "2020-10-09  418.921509\n",
              "2020-10-12  417.365356\n",
              "2020-10-13  415.866058\n",
              "2020-10-14  414.421021\n",
              "2020-10-15  413.027893\n",
              "2020-10-16  411.684296\n",
              "2020-10-19  410.388092\n",
              "2020-10-20  409.137024\n",
              "2020-10-21  407.929321\n",
              "2020-10-22  406.763000\n",
              "2020-10-23  405.636230\n",
              "2020-10-26  404.547272\n",
              "2020-10-27  403.494629"
            ]
          },
          "metadata": {
            "tags": []
          },
          "execution_count": 110
        }
      ]
    },
    {
      "cell_type": "code",
      "metadata": {
        "id": "LhUn998T36Wo",
        "colab_type": "code",
        "colab": {
          "base_uri": "https://localhost:8080/",
          "height": 474
        },
        "outputId": "6aea1b60-6a8d-4998-a27e-8babb095a116"
      },
      "source": [
        "plt.figure(figsize=(16,8))\n",
        "plt.title('Model')\n",
        "plt.xlabel('Date', fontsize=18)\n",
        "plt.ylabel('Close Price', fontsize=18)\n",
        "# plt.plot(train['Close'])\n",
        "plt.plot(new_df[['Close']])\n",
        "plt.legend(['Train', 'Val', 'Predictions'], loc='lower right')\n",
        "plt.show()"
      ],
      "execution_count": null,
      "outputs": [
        {
          "output_type": "display_data",
          "data": {
            "image/png": "[encoded data removed]",
            "text/plain": [
              "<Figure size 1152x576 with 1 Axes>"
            ]
          },
          "metadata": {
            "tags": []
          }
        }
      ]
    },
    {
      "cell_type": "code",
      "metadata": {
        "id": "_ZWHjD4Sl4DU",
        "colab_type": "code",
        "colab": {
          "base_uri": "https://localhost:8080/",
          "height": 34
        },
        "outputId": "073c8759-e66d-4bc3-e031-eec2c5d40790"
      },
      "source": [
        "#Create a new dataframe\n",
        "new_df = df.filter(['Close'])\n",
        "#Get teh last 60 day closing price \n",
        "last_60_days = new_df[-60:].values\n",
        "#Scale the data to be values between 0 and 1\n",
        "last_60_days_scaled = scaler.transform(last_60_days)\n",
        "#Reshape the data\n",
        "X_test = np.reshape(last_60_days_scaled, (X_test.shape[0], X_test.shape[1], 1))\n",
        "#Get the predicted scaled price\n",
        "pred_price = model.predict(X_test)\n",
        "#undo the scaling \n",
        "pred_price = scaler.inverse_transform(pred_price)\n",
        "pred_price"
      ],
      "execution_count": null,
      "outputs": [
        {
          "output_type": "execute_result",
          "data": {
            "text/plain": [
              "array([[600.87634]], dtype=float32)"
            ]
          },
          "metadata": {
            "tags": []
          },
          "execution_count": 113
        }
      ]
    },
    {
      "cell_type": "code",
      "metadata": {
        "id": "7kHPSYMX-j0o",
        "colab_type": "code",
        "colab": {}
      },
      "source": [
        ""
      ],
      "execution_count": null,
      "outputs": []
    },
    {
      "cell_type": "code",
      "metadata": {
        "id": "e2D0ygWVNIKj",
        "colab_type": "code",
        "colab": {
          "base_uri": "https://localhost:8080/",
          "height": 218
        },
        "outputId": "f702a538-a6c5-4483-cb4e-df2468a2ce6f"
      },
      "source": [
        "#Get the quote\n",
        "\n",
        "#Create a new dataframe\n",
        "new_df = df.filter(['Close'])\n",
        "#Get teh last 60 day closing price \n",
        "last_60_days = new_df[-60:].values\n",
        "#Scale the data to be values between 0 and 1\n",
        "last_60_days_scaled = scaler.transform(last_60_days)\n",
        "#Create an empty list\n",
        "X_test = []\n",
        "#Append teh past 60 days\n",
        "X_test.append(last_60_days_scaled)\n",
        "#Convert the X_test data set to a numpy array\n",
        "X_test = np.array(X_test)\n",
        "#Reshape the data\n",
        "X_test = np.reshape(X_test, (X_test.shape[0], X_test.shape[1], 1))\n",
        "#Get the predicted scaled price\n",
        "pred_price = model.predict(X_test)\n",
        "#undo the scaling \n",
        "pred_price = scaler.inverse_transform(pred_price)\n",
        "print(pred_price)\n",
        "pred_price+avg+2*std"
      ],
      "execution_count": null,
      "outputs": [
        {
          "output_type": "stream",
          "text": [
            "[[580.2744]]\n"
          ],
          "name": "stdout"
        },
        {
          "output_type": "error",
          "ename": "NameError",
          "evalue": "ignored",
          "traceback": [
            "\u001b[0;31m---------------------------------------------------------------------------\u001b[0m",
            "\u001b[0;31mNameError\u001b[0m                                 Traceback (most recent call last)",
            "\u001b[0;32m<ipython-input-40-381495c4044e>\u001b[0m in \u001b[0;36m<module>\u001b[0;34m()\u001b[0m\n\u001b[1;32m     20\u001b[0m \u001b[0mpred_price\u001b[0m \u001b[0;34m=\u001b[0m \u001b[0mscaler\u001b[0m\u001b[0;34m.\u001b[0m\u001b[0minverse_transform\u001b[0m\u001b[0;34m(\u001b[0m\u001b[0mpred_price\u001b[0m\u001b[0;34m)\u001b[0m\u001b[0;34m\u001b[0m\u001b[0;34m\u001b[0m\u001b[0m\n\u001b[1;32m     21\u001b[0m \u001b[0mprint\u001b[0m\u001b[0;34m(\u001b[0m\u001b[0mpred_price\u001b[0m\u001b[0;34m)\u001b[0m\u001b[0;34m\u001b[0m\u001b[0;34m\u001b[0m\u001b[0m\n\u001b[0;32m---> 22\u001b[0;31m \u001b[0mpred_price\u001b[0m\u001b[0;34m+\u001b[0m\u001b[0mavg\u001b[0m\u001b[0;34m+\u001b[0m\u001b[0;36m2\u001b[0m\u001b[0;34m*\u001b[0m\u001b[0mstd\u001b[0m\u001b[0;34m\u001b[0m\u001b[0;34m\u001b[0m\u001b[0m\n\u001b[0m",
            "\u001b[0;31mNameError\u001b[0m: name 'avg' is not defined"
          ]
        }
      ]
    },
    {
      "cell_type": "code",
      "metadata": {
        "id": "cUiavo4Ybfa2",
        "colab_type": "code",
        "colab": {}
      },
      "source": [
        ""
      ],
      "execution_count": null,
      "outputs": []
    },
    {
      "cell_type": "code",
      "metadata": {
        "id": "RYXPzgagYubL",
        "colab_type": "code",
        "colab": {}
      },
      "source": [
        ""
      ],
      "execution_count": null,
      "outputs": []
    }
  ]
}